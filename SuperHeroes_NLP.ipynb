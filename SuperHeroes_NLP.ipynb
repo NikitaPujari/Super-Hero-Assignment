{
 "cells": [
  {
   "cell_type": "markdown",
   "id": "640412aa",
   "metadata": {},
   "source": [
    "# 1) How would you define most powerful superhero from the information available in dataset?"
   ]
  },
  {
   "cell_type": "code",
   "execution_count": 2,
   "id": "9867af23",
   "metadata": {},
   "outputs": [],
   "source": [
    "import pandas as pd\n",
    "\n",
    "df = pd.read_csv(\"superheroes_nlp_dataset.csv\")"
   ]
  },
  {
   "cell_type": "code",
   "execution_count": 3,
   "id": "ce82369d",
   "metadata": {},
   "outputs": [
    {
     "data": {
      "text/html": [
       "<div>\n",
       "<style scoped>\n",
       "    .dataframe tbody tr th:only-of-type {\n",
       "        vertical-align: middle;\n",
       "    }\n",
       "\n",
       "    .dataframe tbody tr th {\n",
       "        vertical-align: top;\n",
       "    }\n",
       "\n",
       "    .dataframe thead th {\n",
       "        text-align: right;\n",
       "    }\n",
       "</style>\n",
       "<table border=\"1\" class=\"dataframe\">\n",
       "  <thead>\n",
       "    <tr style=\"text-align: right;\">\n",
       "      <th></th>\n",
       "      <th>name</th>\n",
       "      <th>real_name</th>\n",
       "      <th>full_name</th>\n",
       "      <th>overall_score</th>\n",
       "      <th>history_text</th>\n",
       "      <th>powers_text</th>\n",
       "      <th>intelligence_score</th>\n",
       "      <th>strength_score</th>\n",
       "      <th>speed_score</th>\n",
       "      <th>durability_score</th>\n",
       "      <th>...</th>\n",
       "      <th>has_flight</th>\n",
       "      <th>has_accelerated_healing</th>\n",
       "      <th>has_weapons_master</th>\n",
       "      <th>has_intelligence</th>\n",
       "      <th>has_reflexes</th>\n",
       "      <th>has_super_speed</th>\n",
       "      <th>has_durability</th>\n",
       "      <th>has_stamina</th>\n",
       "      <th>has_agility</th>\n",
       "      <th>has_super_strength</th>\n",
       "    </tr>\n",
       "  </thead>\n",
       "  <tbody>\n",
       "    <tr>\n",
       "      <th>0</th>\n",
       "      <td>3-D Man</td>\n",
       "      <td>Delroy Garrett, Jr.</td>\n",
       "      <td>Delroy Garrett, Jr.</td>\n",
       "      <td>6</td>\n",
       "      <td>Delroy Garrett, Jr. grew up to become a track ...</td>\n",
       "      <td>NaN</td>\n",
       "      <td>85</td>\n",
       "      <td>30</td>\n",
       "      <td>60</td>\n",
       "      <td>60</td>\n",
       "      <td>...</td>\n",
       "      <td>0.0</td>\n",
       "      <td>0.0</td>\n",
       "      <td>0.0</td>\n",
       "      <td>0.0</td>\n",
       "      <td>0.0</td>\n",
       "      <td>1.0</td>\n",
       "      <td>0.0</td>\n",
       "      <td>0.0</td>\n",
       "      <td>0.0</td>\n",
       "      <td>1.0</td>\n",
       "    </tr>\n",
       "    <tr>\n",
       "      <th>1</th>\n",
       "      <td>514A (Gotham)</td>\n",
       "      <td>Bruce Wayne</td>\n",
       "      <td>NaN</td>\n",
       "      <td>10</td>\n",
       "      <td>He was one of the many prisoners of Indian Hil...</td>\n",
       "      <td>NaN</td>\n",
       "      <td>100</td>\n",
       "      <td>20</td>\n",
       "      <td>30</td>\n",
       "      <td>50</td>\n",
       "      <td>...</td>\n",
       "      <td>0.0</td>\n",
       "      <td>0.0</td>\n",
       "      <td>0.0</td>\n",
       "      <td>0.0</td>\n",
       "      <td>1.0</td>\n",
       "      <td>0.0</td>\n",
       "      <td>1.0</td>\n",
       "      <td>0.0</td>\n",
       "      <td>0.0</td>\n",
       "      <td>1.0</td>\n",
       "    </tr>\n",
       "    <tr>\n",
       "      <th>2</th>\n",
       "      <td>A-Bomb</td>\n",
       "      <td>Richard Milhouse Jones</td>\n",
       "      <td>Richard Milhouse Jones</td>\n",
       "      <td>20</td>\n",
       "      <td>Richard \"Rick\" Jones was orphaned at a young ...</td>\n",
       "      <td>On rare occasions, and through unusual circu...</td>\n",
       "      <td>80</td>\n",
       "      <td>100</td>\n",
       "      <td>80</td>\n",
       "      <td>100</td>\n",
       "      <td>...</td>\n",
       "      <td>0.0</td>\n",
       "      <td>1.0</td>\n",
       "      <td>0.0</td>\n",
       "      <td>0.0</td>\n",
       "      <td>1.0</td>\n",
       "      <td>1.0</td>\n",
       "      <td>1.0</td>\n",
       "      <td>1.0</td>\n",
       "      <td>1.0</td>\n",
       "      <td>1.0</td>\n",
       "    </tr>\n",
       "    <tr>\n",
       "      <th>3</th>\n",
       "      <td>Aa</td>\n",
       "      <td>Aa</td>\n",
       "      <td>NaN</td>\n",
       "      <td>12</td>\n",
       "      <td>Aa is one of the more passive members of the P...</td>\n",
       "      <td>NaN</td>\n",
       "      <td>80</td>\n",
       "      <td>50</td>\n",
       "      <td>55</td>\n",
       "      <td>45</td>\n",
       "      <td>...</td>\n",
       "      <td>0.0</td>\n",
       "      <td>0.0</td>\n",
       "      <td>0.0</td>\n",
       "      <td>0.0</td>\n",
       "      <td>0.0</td>\n",
       "      <td>0.0</td>\n",
       "      <td>0.0</td>\n",
       "      <td>0.0</td>\n",
       "      <td>0.0</td>\n",
       "      <td>0.0</td>\n",
       "    </tr>\n",
       "    <tr>\n",
       "      <th>4</th>\n",
       "      <td>Aaron Cash</td>\n",
       "      <td>Aaron Cash</td>\n",
       "      <td>Aaron Cash</td>\n",
       "      <td>5</td>\n",
       "      <td>Aaron Cash is the head of security at Arkham A...</td>\n",
       "      <td>NaN</td>\n",
       "      <td>80</td>\n",
       "      <td>10</td>\n",
       "      <td>25</td>\n",
       "      <td>40</td>\n",
       "      <td>...</td>\n",
       "      <td>0.0</td>\n",
       "      <td>0.0</td>\n",
       "      <td>1.0</td>\n",
       "      <td>0.0</td>\n",
       "      <td>0.0</td>\n",
       "      <td>0.0</td>\n",
       "      <td>0.0</td>\n",
       "      <td>0.0</td>\n",
       "      <td>0.0</td>\n",
       "      <td>0.0</td>\n",
       "    </tr>\n",
       "  </tbody>\n",
       "</table>\n",
       "<p>5 rows × 81 columns</p>\n",
       "</div>"
      ],
      "text/plain": [
       "            name               real_name               full_name  \\\n",
       "0        3-D Man     Delroy Garrett, Jr.     Delroy Garrett, Jr.   \n",
       "1  514A (Gotham)             Bruce Wayne                     NaN   \n",
       "2         A-Bomb  Richard Milhouse Jones  Richard Milhouse Jones   \n",
       "3             Aa                      Aa                     NaN   \n",
       "4     Aaron Cash              Aaron Cash              Aaron Cash   \n",
       "\n",
       "  overall_score                                       history_text  \\\n",
       "0             6  Delroy Garrett, Jr. grew up to become a track ...   \n",
       "1            10  He was one of the many prisoners of Indian Hil...   \n",
       "2            20   Richard \"Rick\" Jones was orphaned at a young ...   \n",
       "3            12  Aa is one of the more passive members of the P...   \n",
       "4             5  Aaron Cash is the head of security at Arkham A...   \n",
       "\n",
       "                                         powers_text  intelligence_score  \\\n",
       "0                                                NaN                  85   \n",
       "1                                                NaN                 100   \n",
       "2    On rare occasions, and through unusual circu...                  80   \n",
       "3                                                NaN                  80   \n",
       "4                                                NaN                  80   \n",
       "\n",
       "   strength_score  speed_score  durability_score  ...  has_flight  \\\n",
       "0              30           60                60  ...         0.0   \n",
       "1              20           30                50  ...         0.0   \n",
       "2             100           80               100  ...         0.0   \n",
       "3              50           55                45  ...         0.0   \n",
       "4              10           25                40  ...         0.0   \n",
       "\n",
       "   has_accelerated_healing has_weapons_master has_intelligence has_reflexes  \\\n",
       "0                      0.0                0.0              0.0          0.0   \n",
       "1                      0.0                0.0              0.0          1.0   \n",
       "2                      1.0                0.0              0.0          1.0   \n",
       "3                      0.0                0.0              0.0          0.0   \n",
       "4                      0.0                1.0              0.0          0.0   \n",
       "\n",
       "  has_super_speed has_durability has_stamina has_agility has_super_strength  \n",
       "0             1.0            0.0         0.0         0.0                1.0  \n",
       "1             0.0            1.0         0.0         0.0                1.0  \n",
       "2             1.0            1.0         1.0         1.0                1.0  \n",
       "3             0.0            0.0         0.0         0.0                0.0  \n",
       "4             0.0            0.0         0.0         0.0                0.0  \n",
       "\n",
       "[5 rows x 81 columns]"
      ]
     },
     "execution_count": 3,
     "metadata": {},
     "output_type": "execute_result"
    }
   ],
   "source": [
    "df.head()"
   ]
  },
  {
   "cell_type": "code",
   "execution_count": 4,
   "id": "0739d0fd",
   "metadata": {},
   "outputs": [
    {
     "data": {
      "text/plain": [
       "(1450, 81)"
      ]
     },
     "execution_count": 4,
     "metadata": {},
     "output_type": "execute_result"
    }
   ],
   "source": [
    "df.shape"
   ]
  },
  {
   "cell_type": "code",
   "execution_count": 5,
   "id": "07f93cbb",
   "metadata": {},
   "outputs": [
    {
     "data": {
      "text/plain": [
       "2"
      ]
     },
     "execution_count": 5,
     "metadata": {},
     "output_type": "execute_result"
    }
   ],
   "source": [
    "# Taking name as unique index\n",
    "df[\"name\"].isna().sum()"
   ]
  },
  {
   "cell_type": "code",
   "execution_count": 6,
   "id": "b65b3835",
   "metadata": {},
   "outputs": [],
   "source": [
    "df.drop_duplicates('name',keep='first',inplace=True)"
   ]
  },
  {
   "cell_type": "code",
   "execution_count": 7,
   "id": "9412398e",
   "metadata": {},
   "outputs": [
    {
     "data": {
      "text/plain": [
       "(1449, 81)"
      ]
     },
     "execution_count": 7,
     "metadata": {},
     "output_type": "execute_result"
    }
   ],
   "source": [
    "df.shape"
   ]
  },
  {
   "cell_type": "code",
   "execution_count": 8,
   "id": "9b3178fd",
   "metadata": {},
   "outputs": [],
   "source": [
    "df = df.dropna(subset=['name'])"
   ]
  },
  {
   "cell_type": "code",
   "execution_count": 9,
   "id": "c1784c3a",
   "metadata": {},
   "outputs": [
    {
     "data": {
      "text/plain": [
       "(1448, 81)"
      ]
     },
     "execution_count": 9,
     "metadata": {},
     "output_type": "execute_result"
    }
   ],
   "source": [
    "df.shape"
   ]
  },
  {
   "cell_type": "code",
   "execution_count": 10,
   "id": "ad06f59e",
   "metadata": {},
   "outputs": [
    {
     "name": "stdout",
     "output_type": "stream",
     "text": [
      "11      ∞\n",
      "153     ∞\n",
      "174     ∞\n",
      "376     ∞\n",
      "450     ∞\n",
      "482     ∞\n",
      "526     ∞\n",
      "795     ∞\n",
      "803     ∞\n",
      "809     ∞\n",
      "845     ∞\n",
      "882     ∞\n",
      "1202    ∞\n",
      "1272    ∞\n",
      "1281    ∞\n",
      "1289    ∞\n",
      "1290    ∞\n",
      "1337    ∞\n",
      "Name: overall_score, dtype: object\n"
     ]
    }
   ],
   "source": [
    "# Most powerful super hero from entire dataset\n",
    "# Considering super hero having highest overall_score as most powerful\n",
    "\n",
    "print(df[df.overall_score == df.overall_score.max()]['overall_score'])"
   ]
  },
  {
   "cell_type": "code",
   "execution_count": 11,
   "id": "7cddbed1",
   "metadata": {},
   "outputs": [],
   "source": [
    "# We can see that there are many super heroes having overall_score as infinity\n",
    "# Will try other method. Will add intelligence_score, strength_score, speed_score, durability_score, power_score and combat_score\n",
    "# and superhero with highest sum will be most powerful one\n",
    "df['total_score'] = df['intelligence_score'] + df['strength_score'] + df['speed_score'] + df['durability_score'] + df['power_score']+df['combat_score']"
   ]
  },
  {
   "cell_type": "code",
   "execution_count": 12,
   "id": "8059905f",
   "metadata": {},
   "outputs": [
    {
     "name": "stdout",
     "output_type": "stream",
     "text": [
      "11      600\n",
      "40      600\n",
      "324     600\n",
      "450     600\n",
      "482     600\n",
      "526     600\n",
      "527     600\n",
      "538     600\n",
      "795     600\n",
      "803     600\n",
      "809     600\n",
      "845     600\n",
      "882     600\n",
      "976     600\n",
      "983     600\n",
      "1053    600\n",
      "1281    600\n",
      "1289    600\n",
      "1290    600\n",
      "1292    600\n",
      "1293    600\n",
      "1337    600\n",
      "Name: total_score, dtype: int64\n"
     ]
    }
   ],
   "source": [
    "print(df[df.total_score == df.total_score.max()]['total_score'])"
   ]
  },
  {
   "cell_type": "code",
   "execution_count": 13,
   "id": "97ae6c99",
   "metadata": {},
   "outputs": [],
   "source": [
    "df['total_powers'] = (df['superpowers'].str.count(',')) + 1"
   ]
  },
  {
   "cell_type": "code",
   "execution_count": 14,
   "id": "86a2149e",
   "metadata": {},
   "outputs": [
    {
     "data": {
      "text/html": [
       "<div>\n",
       "<style scoped>\n",
       "    .dataframe tbody tr th:only-of-type {\n",
       "        vertical-align: middle;\n",
       "    }\n",
       "\n",
       "    .dataframe tbody tr th {\n",
       "        vertical-align: top;\n",
       "    }\n",
       "\n",
       "    .dataframe thead th {\n",
       "        text-align: right;\n",
       "    }\n",
       "</style>\n",
       "<table border=\"1\" class=\"dataframe\">\n",
       "  <thead>\n",
       "    <tr style=\"text-align: right;\">\n",
       "      <th></th>\n",
       "      <th>name</th>\n",
       "      <th>real_name</th>\n",
       "      <th>full_name</th>\n",
       "      <th>overall_score</th>\n",
       "      <th>history_text</th>\n",
       "      <th>powers_text</th>\n",
       "      <th>intelligence_score</th>\n",
       "      <th>strength_score</th>\n",
       "      <th>speed_score</th>\n",
       "      <th>durability_score</th>\n",
       "      <th>...</th>\n",
       "      <th>has_weapons_master</th>\n",
       "      <th>has_intelligence</th>\n",
       "      <th>has_reflexes</th>\n",
       "      <th>has_super_speed</th>\n",
       "      <th>has_durability</th>\n",
       "      <th>has_stamina</th>\n",
       "      <th>has_agility</th>\n",
       "      <th>has_super_strength</th>\n",
       "      <th>total_score</th>\n",
       "      <th>total_powers</th>\n",
       "    </tr>\n",
       "  </thead>\n",
       "  <tbody>\n",
       "    <tr>\n",
       "      <th>526</th>\n",
       "      <td>Golden Master's Mech</td>\n",
       "      <td>Overlord</td>\n",
       "      <td>NaN</td>\n",
       "      <td>∞</td>\n",
       "      <td>While some of the Nindroids under Cryptor retr...</td>\n",
       "      <td>The Golden Master's Mech (also known as the Ul...</td>\n",
       "      <td>100</td>\n",
       "      <td>100</td>\n",
       "      <td>100</td>\n",
       "      <td>100</td>\n",
       "      <td>...</td>\n",
       "      <td>1.0</td>\n",
       "      <td>1.0</td>\n",
       "      <td>1.0</td>\n",
       "      <td>1.0</td>\n",
       "      <td>1.0</td>\n",
       "      <td>1.0</td>\n",
       "      <td>1.0</td>\n",
       "      <td>0.0</td>\n",
       "      <td>600</td>\n",
       "      <td>106</td>\n",
       "    </tr>\n",
       "  </tbody>\n",
       "</table>\n",
       "<p>1 rows × 83 columns</p>\n",
       "</div>"
      ],
      "text/plain": [
       "                     name real_name full_name overall_score  \\\n",
       "526  Golden Master's Mech  Overlord       NaN             ∞   \n",
       "\n",
       "                                          history_text  \\\n",
       "526  While some of the Nindroids under Cryptor retr...   \n",
       "\n",
       "                                           powers_text  intelligence_score  \\\n",
       "526  The Golden Master's Mech (also known as the Ul...                 100   \n",
       "\n",
       "     strength_score  speed_score  durability_score  ...  has_weapons_master  \\\n",
       "526             100          100               100  ...                 1.0   \n",
       "\n",
       "     has_intelligence has_reflexes has_super_speed has_durability has_stamina  \\\n",
       "526               1.0          1.0             1.0            1.0         1.0   \n",
       "\n",
       "    has_agility has_super_strength total_score total_powers  \n",
       "526         1.0                0.0         600          106  \n",
       "\n",
       "[1 rows x 83 columns]"
      ]
     },
     "execution_count": 14,
     "metadata": {},
     "output_type": "execute_result"
    }
   ],
   "source": [
    "df.sort_values(['overall_score','total_score','total_powers'], ascending=[False,False, False]).head(1)"
   ]
  },
  {
   "cell_type": "markdown",
   "id": "dfbc892a",
   "metadata": {},
   "source": [
    "# Golden Master's Mech is the most powerful superhero in etire dataset"
   ]
  },
  {
   "cell_type": "code",
   "execution_count": 16,
   "id": "329dda33",
   "metadata": {},
   "outputs": [],
   "source": [
    "# Total creators\n",
    "creators = df[\"creator\"].value_counts()"
   ]
  },
  {
   "cell_type": "code",
   "execution_count": 17,
   "id": "c5ed5ca7",
   "metadata": {},
   "outputs": [
    {
     "name": "stdout",
     "output_type": "stream",
     "text": [
      "Marvel Comics             615\n",
      "DC Comics                 444\n",
      "Shueisha                   37\n",
      "Dark Horse Comics          29\n",
      "Lego                       22\n",
      "George Lucas               18\n",
      "Image Comics               17\n",
      "NBC - Heroes               16\n",
      "Ubisoft                     9\n",
      "J. R. R. Tolkien            8\n",
      "J. K. Rowling               8\n",
      "Wildstorm                   7\n",
      "George R. R. Martin         7\n",
      "Team Epic TV                6\n",
      "HarperCollins               6\n",
      "SyFy                        6\n",
      "Capcom                      5\n",
      "Icon Comics                 4\n",
      "Mortal Kombat               4\n",
      "ABC Studios                 4\n",
      "Nintendo                    4\n",
      "Star Trek                   4\n",
      "Sony Pictures               3\n",
      "Hasbro                      3\n",
      "Disney                      3\n",
      "Namco                       3\n",
      "Cartoon Network             2\n",
      "Universal Studios           2\n",
      "IDW Publishing              2\n",
      "Clive Barker                2\n",
      "Mattel                      1\n",
      "Sega                        1\n",
      "Microsoft                   1\n",
      "Hanna-Barbera               1\n",
      "Ian Fleming                 1\n",
      "Dreamworks                  1\n",
      "Stephen King                1\n",
      "Konami                      1\n",
      "Blizzard Entertainment      1\n",
      "South Park                  1\n",
      "Matt Groening               1\n",
      "Name: creator, dtype: int64\n"
     ]
    }
   ],
   "source": [
    "print(creators)"
   ]
  },
  {
   "cell_type": "code",
   "execution_count": 18,
   "id": "9bd4b96b",
   "metadata": {},
   "outputs": [
    {
     "data": {
      "text/html": [
       "<div>\n",
       "<style scoped>\n",
       "    .dataframe tbody tr th:only-of-type {\n",
       "        vertical-align: middle;\n",
       "    }\n",
       "\n",
       "    .dataframe tbody tr th {\n",
       "        vertical-align: top;\n",
       "    }\n",
       "\n",
       "    .dataframe thead th {\n",
       "        text-align: right;\n",
       "    }\n",
       "</style>\n",
       "<table border=\"1\" class=\"dataframe\">\n",
       "  <thead>\n",
       "    <tr style=\"text-align: right;\">\n",
       "      <th></th>\n",
       "      <th>name</th>\n",
       "      <th>real_name</th>\n",
       "      <th>full_name</th>\n",
       "      <th>overall_score</th>\n",
       "      <th>history_text</th>\n",
       "      <th>powers_text</th>\n",
       "      <th>intelligence_score</th>\n",
       "      <th>strength_score</th>\n",
       "      <th>speed_score</th>\n",
       "      <th>durability_score</th>\n",
       "      <th>...</th>\n",
       "      <th>has_weapons_master</th>\n",
       "      <th>has_intelligence</th>\n",
       "      <th>has_reflexes</th>\n",
       "      <th>has_super_speed</th>\n",
       "      <th>has_durability</th>\n",
       "      <th>has_stamina</th>\n",
       "      <th>has_agility</th>\n",
       "      <th>has_super_strength</th>\n",
       "      <th>total_score</th>\n",
       "      <th>total_powers</th>\n",
       "    </tr>\n",
       "  </thead>\n",
       "  <tbody>\n",
       "    <tr>\n",
       "      <th>526</th>\n",
       "      <td>Golden Master's Mech</td>\n",
       "      <td>Overlord</td>\n",
       "      <td>NaN</td>\n",
       "      <td>∞</td>\n",
       "      <td>While some of the Nindroids under Cryptor retr...</td>\n",
       "      <td>The Golden Master's Mech (also known as the Ul...</td>\n",
       "      <td>100</td>\n",
       "      <td>100</td>\n",
       "      <td>100</td>\n",
       "      <td>100</td>\n",
       "      <td>...</td>\n",
       "      <td>1.0</td>\n",
       "      <td>1.0</td>\n",
       "      <td>1.0</td>\n",
       "      <td>1.0</td>\n",
       "      <td>1.0</td>\n",
       "      <td>1.0</td>\n",
       "      <td>1.0</td>\n",
       "      <td>0.0</td>\n",
       "      <td>600</td>\n",
       "      <td>106</td>\n",
       "    </tr>\n",
       "  </tbody>\n",
       "</table>\n",
       "<p>1 rows × 83 columns</p>\n",
       "</div>"
      ],
      "text/plain": [
       "                     name real_name full_name overall_score  \\\n",
       "526  Golden Master's Mech  Overlord       NaN             ∞   \n",
       "\n",
       "                                          history_text  \\\n",
       "526  While some of the Nindroids under Cryptor retr...   \n",
       "\n",
       "                                           powers_text  intelligence_score  \\\n",
       "526  The Golden Master's Mech (also known as the Ul...                 100   \n",
       "\n",
       "     strength_score  speed_score  durability_score  ...  has_weapons_master  \\\n",
       "526             100          100               100  ...                 1.0   \n",
       "\n",
       "     has_intelligence has_reflexes has_super_speed has_durability has_stamina  \\\n",
       "526               1.0          1.0             1.0            1.0         1.0   \n",
       "\n",
       "    has_agility has_super_strength total_score total_powers  \n",
       "526         1.0                0.0         600          106  \n",
       "\n",
       "[1 rows x 83 columns]"
      ]
     },
     "execution_count": 18,
     "metadata": {},
     "output_type": "execute_result"
    }
   ],
   "source": [
    "df.sort_values(['overall_score','total_score','total_powers'], ascending=[False,False, False]).head(1)"
   ]
  },
  {
   "cell_type": "code",
   "execution_count": 19,
   "id": "85a2f839",
   "metadata": {},
   "outputs": [
    {
     "name": "stdout",
     "output_type": "stream",
     "text": [
      "creator -  ABC Studios\n",
      "687    JJ Powell\n",
      "Name: name, dtype: object\n",
      "creator -  Blizzard Entertainment\n",
      "17    A'dal\n",
      "Name: name, dtype: object\n",
      "creator -  Capcom\n",
      "97    Asura\n",
      "Name: name, dtype: object\n",
      "creator -  Cartoon Network\n",
      "923    Morty Smith\n",
      "Name: name, dtype: object\n",
      "creator -  Clive Barker\n",
      "1006    Pinhead\n",
      "Name: name, dtype: object\n",
      "creator -  DC Comics\n",
      "882    Michael Demiurgos\n",
      "Name: name, dtype: object\n",
      "creator -  Dark Horse Comics\n",
      "1264    T-850\n",
      "Name: name, dtype: object\n",
      "creator -  Disney\n",
      "663    Jack Sparrow\n",
      "Name: name, dtype: object\n",
      "creator -  Dreamworks\n",
      "659    Jack Frost\n",
      "Name: name, dtype: object\n",
      "creator -  George Lucas\n",
      "362    Darth Nihilus\n",
      "Name: name, dtype: object\n",
      "creator -  George R. R. Martin\n",
      "1289    The Lord Of Light\n",
      "Name: name, dtype: object\n",
      "creator -  Hanna-Barbera\n",
      "165    Birdman\n",
      "Name: name, dtype: object\n",
      "creator -  HarperCollins\n",
      "447    Energy\n",
      "Name: name, dtype: object\n",
      "creator -  Hasbro\n",
      "236    Bumblebee\n",
      "Name: name, dtype: object\n",
      "creator -  IDW Publishing\n",
      "1242    Storm Shadow\n",
      "Name: name, dtype: object\n",
      "creator -  Ian Fleming\n",
      "666    James Bond (Craig)\n",
      "Name: name, dtype: object\n",
      "creator -  Icon Comics\n",
      "600    Hit-Girl\n",
      "Name: name, dtype: object\n",
      "creator -  Image Comics\n",
      "845    Man Of Miracles\n",
      "Name: name, dtype: object\n",
      "creator -  J. K. Rowling\n",
      "1025    Professor Dumbledore\n",
      "Name: name, dtype: object\n",
      "creator -  J. R. R. Tolkien\n",
      "450    Eru Iluvatar\n",
      "Name: name, dtype: object\n",
      "creator -  Konami\n",
      "421    Dracula\n",
      "Name: name, dtype: object\n",
      "creator -  Lego\n",
      "1113    Ronin (Ninjago)\n",
      "Name: name, dtype: object\n",
      "creator -  Marvel Comics\n",
      "1337    True Form Oblivion\n",
      "Name: name, dtype: object\n",
      "creator -  Matt Groening\n",
      "1252    Superking\n",
      "Name: name, dtype: object\n",
      "creator -  Mattel\n",
      "1184    Skeletor\n",
      "Name: name, dtype: object\n",
      "creator -  Microsoft\n",
      "859    Master Chief\n",
      "Name: name, dtype: object\n",
      "creator -  Mortal Kombat\n",
      "1153    Shao Kahn\n",
      "Name: name, dtype: object\n",
      "creator -  NBC - Heroes\n",
      "18    Adam Monroe\n",
      "Name: name, dtype: object\n",
      "creator -  Namco\n",
      "369    Deacons Of The Deep\n",
      "Name: name, dtype: object\n",
      "creator -  Nintendo\n",
      "801    Link\n",
      "Name: name, dtype: object\n",
      "creator -  Sega\n",
      "1195    Sonic The Hedgehog\n",
      "Name: name, dtype: object\n",
      "creator -  Shueisha\n",
      "598    Hinata Hyūga\n",
      "Name: name, dtype: object\n",
      "creator -  Sony Pictures\n",
      "1209    Spider-Man (Raimi Trilogy)\n",
      "Name: name, dtype: object\n",
      "creator -  South Park\n",
      "264    Captain Hindsight\n",
      "Name: name, dtype: object\n",
      "creator -  Star Trek\n",
      "1216    Spock\n",
      "Name: name, dtype: object\n",
      "creator -  Stephen King\n",
      "655    IT\n",
      "Name: name, dtype: object\n",
      "creator -  SyFy\n",
      "158    Bill Harken\n",
      "Name: name, dtype: object\n",
      "creator -  Team Epic TV\n",
      "857    Master Brood\n",
      "Name: name, dtype: object\n",
      "creator -  Ubisoft\n",
      "459    Ezio Auditore da Firenze\n",
      "Name: name, dtype: object\n",
      "creator -  Universal Studios\n",
      "359    Darkman\n",
      "Name: name, dtype: object\n",
      "creator -  Wildstorm\n",
      "41    Allan Quatermain\n",
      "Name: name, dtype: object\n"
     ]
    }
   ],
   "source": [
    "groups = df.groupby('creator')\n",
    "for creator, group in groups:\n",
    "    # Most powerful superhero in each creator\n",
    "    print('creator - ', creator)\n",
    "    superhero = group.sort_values(['overall_score','total_score','total_powers'], ascending=[False,False, False]).head(1)\n",
    "    print(superhero['name'])"
   ]
  },
  {
   "cell_type": "markdown",
   "id": "9db86fd3",
   "metadata": {},
   "source": [
    " # Most powerful superhero in each creator"
   ]
  },
  {
   "cell_type": "markdown",
   "id": "e0978d57",
   "metadata": {},
   "source": [
    "# 2)Find the top 5 superpowers in descending order."
   ]
  },
  {
   "cell_type": "code",
   "execution_count": 20,
   "id": "eca4e78f",
   "metadata": {},
   "outputs": [],
   "source": [
    "\n",
    "# Column name starting with 'has_' are denoting super powers\n",
    "\n",
    "superpowers_df = df.loc[:, df.columns.str.startswith('has')].dropna()\n",
    "superpowers_df.columns = superpowers_df.columns.str.replace(r'has_', '')\n",
    "# Do transpose\n",
    "superpowers_df = superpowers_df.T.reset_index()"
   ]
  },
  {
   "cell_type": "code",
   "execution_count": 21,
   "id": "0a8b146a",
   "metadata": {},
   "outputs": [
    {
     "name": "stderr",
     "output_type": "stream",
     "text": [
      "C:\\Users\\Nikita\\AppData\\Local\\Temp\\ipykernel_6360\\248861164.py:1: FutureWarning: Dropping of nuisance columns in DataFrame reductions (with 'numeric_only=None') is deprecated; in a future version this will raise TypeError.  Select only valid columns before calling the reduction.\n",
      "  superpowers_df['total'] = superpowers_df.sum(axis=1)\n"
     ]
    }
   ],
   "source": [
    "superpowers_df['total'] = superpowers_df.sum(axis=1)\n",
    "superpowers_df.sort_values('total',ascending=False, inplace=True)"
   ]
  },
  {
   "cell_type": "code",
   "execution_count": 22,
   "id": "b3d42d00",
   "metadata": {},
   "outputs": [
    {
     "data": {
      "text/html": [
       "<div>\n",
       "<style scoped>\n",
       "    .dataframe tbody tr th:only-of-type {\n",
       "        vertical-align: middle;\n",
       "    }\n",
       "\n",
       "    .dataframe tbody tr th {\n",
       "        vertical-align: top;\n",
       "    }\n",
       "\n",
       "    .dataframe thead th {\n",
       "        text-align: right;\n",
       "    }\n",
       "</style>\n",
       "<table border=\"1\" class=\"dataframe\">\n",
       "  <thead>\n",
       "    <tr style=\"text-align: right;\">\n",
       "      <th></th>\n",
       "      <th>index</th>\n",
       "      <th>0</th>\n",
       "      <th>1</th>\n",
       "      <th>2</th>\n",
       "      <th>3</th>\n",
       "      <th>4</th>\n",
       "      <th>5</th>\n",
       "      <th>6</th>\n",
       "      <th>7</th>\n",
       "      <th>8</th>\n",
       "      <th>...</th>\n",
       "      <th>1440</th>\n",
       "      <th>1441</th>\n",
       "      <th>1442</th>\n",
       "      <th>1444</th>\n",
       "      <th>1445</th>\n",
       "      <th>1446</th>\n",
       "      <th>1447</th>\n",
       "      <th>1448</th>\n",
       "      <th>1449</th>\n",
       "      <th>total</th>\n",
       "    </tr>\n",
       "  </thead>\n",
       "  <tbody>\n",
       "    <tr>\n",
       "      <th>48</th>\n",
       "      <td>agility</td>\n",
       "      <td>0.0</td>\n",
       "      <td>0.0</td>\n",
       "      <td>1.0</td>\n",
       "      <td>0.0</td>\n",
       "      <td>0.0</td>\n",
       "      <td>1.0</td>\n",
       "      <td>1.0</td>\n",
       "      <td>0.0</td>\n",
       "      <td>1.0</td>\n",
       "      <td>...</td>\n",
       "      <td>0.0</td>\n",
       "      <td>1.0</td>\n",
       "      <td>1.0</td>\n",
       "      <td>1.0</td>\n",
       "      <td>0.0</td>\n",
       "      <td>1.0</td>\n",
       "      <td>1.0</td>\n",
       "      <td>0.0</td>\n",
       "      <td>1.0</td>\n",
       "      <td>778.0</td>\n",
       "    </tr>\n",
       "    <tr>\n",
       "      <th>47</th>\n",
       "      <td>stamina</td>\n",
       "      <td>0.0</td>\n",
       "      <td>0.0</td>\n",
       "      <td>1.0</td>\n",
       "      <td>0.0</td>\n",
       "      <td>0.0</td>\n",
       "      <td>0.0</td>\n",
       "      <td>1.0</td>\n",
       "      <td>0.0</td>\n",
       "      <td>1.0</td>\n",
       "      <td>...</td>\n",
       "      <td>0.0</td>\n",
       "      <td>1.0</td>\n",
       "      <td>1.0</td>\n",
       "      <td>1.0</td>\n",
       "      <td>0.0</td>\n",
       "      <td>1.0</td>\n",
       "      <td>1.0</td>\n",
       "      <td>0.0</td>\n",
       "      <td>0.0</td>\n",
       "      <td>737.0</td>\n",
       "    </tr>\n",
       "    <tr>\n",
       "      <th>49</th>\n",
       "      <td>super_strength</td>\n",
       "      <td>1.0</td>\n",
       "      <td>1.0</td>\n",
       "      <td>1.0</td>\n",
       "      <td>0.0</td>\n",
       "      <td>0.0</td>\n",
       "      <td>0.0</td>\n",
       "      <td>1.0</td>\n",
       "      <td>0.0</td>\n",
       "      <td>1.0</td>\n",
       "      <td>...</td>\n",
       "      <td>0.0</td>\n",
       "      <td>1.0</td>\n",
       "      <td>0.0</td>\n",
       "      <td>1.0</td>\n",
       "      <td>0.0</td>\n",
       "      <td>1.0</td>\n",
       "      <td>1.0</td>\n",
       "      <td>0.0</td>\n",
       "      <td>1.0</td>\n",
       "      <td>731.0</td>\n",
       "    </tr>\n",
       "    <tr>\n",
       "      <th>46</th>\n",
       "      <td>durability</td>\n",
       "      <td>0.0</td>\n",
       "      <td>1.0</td>\n",
       "      <td>1.0</td>\n",
       "      <td>0.0</td>\n",
       "      <td>0.0</td>\n",
       "      <td>0.0</td>\n",
       "      <td>1.0</td>\n",
       "      <td>0.0</td>\n",
       "      <td>1.0</td>\n",
       "      <td>...</td>\n",
       "      <td>0.0</td>\n",
       "      <td>1.0</td>\n",
       "      <td>0.0</td>\n",
       "      <td>1.0</td>\n",
       "      <td>0.0</td>\n",
       "      <td>1.0</td>\n",
       "      <td>1.0</td>\n",
       "      <td>0.0</td>\n",
       "      <td>0.0</td>\n",
       "      <td>708.0</td>\n",
       "    </tr>\n",
       "    <tr>\n",
       "      <th>43</th>\n",
       "      <td>intelligence</td>\n",
       "      <td>0.0</td>\n",
       "      <td>0.0</td>\n",
       "      <td>0.0</td>\n",
       "      <td>0.0</td>\n",
       "      <td>0.0</td>\n",
       "      <td>0.0</td>\n",
       "      <td>1.0</td>\n",
       "      <td>0.0</td>\n",
       "      <td>1.0</td>\n",
       "      <td>...</td>\n",
       "      <td>0.0</td>\n",
       "      <td>1.0</td>\n",
       "      <td>0.0</td>\n",
       "      <td>1.0</td>\n",
       "      <td>0.0</td>\n",
       "      <td>1.0</td>\n",
       "      <td>1.0</td>\n",
       "      <td>0.0</td>\n",
       "      <td>0.0</td>\n",
       "      <td>599.0</td>\n",
       "    </tr>\n",
       "  </tbody>\n",
       "</table>\n",
       "<p>5 rows × 1385 columns</p>\n",
       "</div>"
      ],
      "text/plain": [
       "             index    0    1    2    3    4    5    6    7    8  ...  1440  \\\n",
       "48         agility  0.0  0.0  1.0  0.0  0.0  1.0  1.0  0.0  1.0  ...   0.0   \n",
       "47         stamina  0.0  0.0  1.0  0.0  0.0  0.0  1.0  0.0  1.0  ...   0.0   \n",
       "49  super_strength  1.0  1.0  1.0  0.0  0.0  0.0  1.0  0.0  1.0  ...   0.0   \n",
       "46      durability  0.0  1.0  1.0  0.0  0.0  0.0  1.0  0.0  1.0  ...   0.0   \n",
       "43    intelligence  0.0  0.0  0.0  0.0  0.0  0.0  1.0  0.0  1.0  ...   0.0   \n",
       "\n",
       "    1441  1442  1444  1445  1446  1447  1448  1449  total  \n",
       "48   1.0   1.0   1.0   0.0   1.0   1.0   0.0   1.0  778.0  \n",
       "47   1.0   1.0   1.0   0.0   1.0   1.0   0.0   0.0  737.0  \n",
       "49   1.0   0.0   1.0   0.0   1.0   1.0   0.0   1.0  731.0  \n",
       "46   1.0   0.0   1.0   0.0   1.0   1.0   0.0   0.0  708.0  \n",
       "43   1.0   0.0   1.0   0.0   1.0   1.0   0.0   0.0  599.0  \n",
       "\n",
       "[5 rows x 1385 columns]"
      ]
     },
     "execution_count": 22,
     "metadata": {},
     "output_type": "execute_result"
    }
   ],
   "source": [
    "superpowers_df.head(5)"
   ]
  },
  {
   "cell_type": "markdown",
   "id": "dc08426a",
   "metadata": {},
   "source": [
    "# Above are the top 5 superpowers in descending order"
   ]
  },
  {
   "cell_type": "markdown",
   "id": "90eb7e79",
   "metadata": {},
   "source": [
    "# 3)\tWhich race has the most immortal superheroes?"
   ]
  },
  {
   "cell_type": "code",
   "execution_count": 23,
   "id": "fe4aaacb",
   "metadata": {},
   "outputs": [],
   "source": [
    "# Total creators\n",
    "race = df[\"type_race\"].value_counts()"
   ]
  },
  {
   "cell_type": "code",
   "execution_count": 24,
   "id": "fabdd7e8",
   "metadata": {},
   "outputs": [
    {
     "name": "stdout",
     "output_type": "stream",
     "text": [
      "Human              529\n",
      "Mutant              99\n",
      "God / Eternal       43\n",
      "Metahuman           42\n",
      "Alien               31\n",
      "                  ... \n",
      "Lego                 1\n",
      "Zen-Whoberian        1\n",
      "Kakarantharaian      1\n",
      "Human / Cosmic       1\n",
      "Yoda's species       1\n",
      "Name: type_race, Length: 67, dtype: int64\n"
     ]
    }
   ],
   "source": [
    "print(race)"
   ]
  },
  {
   "cell_type": "code",
   "execution_count": 25,
   "id": "b678e6db",
   "metadata": {},
   "outputs": [],
   "source": [
    "df_immortal = df[['type_race','has_immortality']].copy()"
   ]
  },
  {
   "cell_type": "code",
   "execution_count": 26,
   "id": "8779b9aa",
   "metadata": {},
   "outputs": [
    {
     "data": {
      "text/html": [
       "<div>\n",
       "<style scoped>\n",
       "    .dataframe tbody tr th:only-of-type {\n",
       "        vertical-align: middle;\n",
       "    }\n",
       "\n",
       "    .dataframe tbody tr th {\n",
       "        vertical-align: top;\n",
       "    }\n",
       "\n",
       "    .dataframe thead th {\n",
       "        text-align: right;\n",
       "    }\n",
       "</style>\n",
       "<table border=\"1\" class=\"dataframe\">\n",
       "  <thead>\n",
       "    <tr style=\"text-align: right;\">\n",
       "      <th></th>\n",
       "      <th>type_race</th>\n",
       "      <th>has_immortality</th>\n",
       "    </tr>\n",
       "  </thead>\n",
       "  <tbody>\n",
       "    <tr>\n",
       "      <th>0</th>\n",
       "      <td>Human</td>\n",
       "      <td>0.0</td>\n",
       "    </tr>\n",
       "    <tr>\n",
       "      <th>2</th>\n",
       "      <td>Human</td>\n",
       "      <td>0.0</td>\n",
       "    </tr>\n",
       "    <tr>\n",
       "      <th>3</th>\n",
       "      <td>Human</td>\n",
       "      <td>0.0</td>\n",
       "    </tr>\n",
       "    <tr>\n",
       "      <th>4</th>\n",
       "      <td>Human</td>\n",
       "      <td>0.0</td>\n",
       "    </tr>\n",
       "    <tr>\n",
       "      <th>5</th>\n",
       "      <td>Twi'lek</td>\n",
       "      <td>0.0</td>\n",
       "    </tr>\n",
       "    <tr>\n",
       "      <th>...</th>\n",
       "      <td>...</td>\n",
       "      <td>...</td>\n",
       "    </tr>\n",
       "    <tr>\n",
       "      <th>1441</th>\n",
       "      <td>Alien</td>\n",
       "      <td>0.0</td>\n",
       "    </tr>\n",
       "    <tr>\n",
       "      <th>1442</th>\n",
       "      <td>Mutant</td>\n",
       "      <td>0.0</td>\n",
       "    </tr>\n",
       "    <tr>\n",
       "      <th>1444</th>\n",
       "      <td>Android</td>\n",
       "      <td>1.0</td>\n",
       "    </tr>\n",
       "    <tr>\n",
       "      <th>1445</th>\n",
       "      <td>Human</td>\n",
       "      <td>0.0</td>\n",
       "    </tr>\n",
       "    <tr>\n",
       "      <th>1446</th>\n",
       "      <td>Robot</td>\n",
       "      <td>0.0</td>\n",
       "    </tr>\n",
       "  </tbody>\n",
       "</table>\n",
       "<p>1028 rows × 2 columns</p>\n",
       "</div>"
      ],
      "text/plain": [
       "     type_race  has_immortality\n",
       "0        Human              0.0\n",
       "2        Human              0.0\n",
       "3        Human              0.0\n",
       "4        Human              0.0\n",
       "5      Twi'lek              0.0\n",
       "...        ...              ...\n",
       "1441     Alien              0.0\n",
       "1442    Mutant              0.0\n",
       "1444   Android              1.0\n",
       "1445     Human              0.0\n",
       "1446     Robot              0.0\n",
       "\n",
       "[1028 rows x 2 columns]"
      ]
     },
     "execution_count": 26,
     "metadata": {},
     "output_type": "execute_result"
    }
   ],
   "source": [
    "df_immortal.dropna()"
   ]
  },
  {
   "cell_type": "code",
   "execution_count": 27,
   "id": "745d85d7",
   "metadata": {},
   "outputs": [],
   "source": [
    "df_immortal_grp = df_immortal.groupby(['type_race'])['has_immortality'].sum()"
   ]
  },
  {
   "cell_type": "code",
   "execution_count": 28,
   "id": "e8e0a467",
   "metadata": {},
   "outputs": [
    {
     "data": {
      "text/plain": [
       "type_race\n",
       "God / Eternal    36.0\n",
       "Human            29.0\n",
       "Demon            18.0\n",
       "New God          11.0\n",
       "Cosmic Entity     8.0\n",
       "                 ... \n",
       "Alpha             0.0\n",
       "Human-Spartoi     0.0\n",
       "Human-Inhuman     0.0\n",
       "Frost Giant       0.0\n",
       "Human-Vulcan      0.0\n",
       "Name: has_immortality, Length: 67, dtype: float64"
      ]
     },
     "execution_count": 28,
     "metadata": {},
     "output_type": "execute_result"
    }
   ],
   "source": [
    "df_immortal_grp.sort_values(ascending=False)"
   ]
  },
  {
   "cell_type": "markdown",
   "id": "7d8368f0",
   "metadata": {},
   "source": [
    "# 'God / Eternal' race has the most immortal superheroes"
   ]
  },
  {
   "cell_type": "markdown",
   "id": "2420c4d3",
   "metadata": {},
   "source": [
    "# 4)Name the creator having most superheroes of type “Parademon”."
   ]
  },
  {
   "cell_type": "code",
   "execution_count": 29,
   "id": "72a6470d",
   "metadata": {},
   "outputs": [],
   "source": [
    "# Selecting the type_race as 'Parademon'\n",
    "df_parademon = df.loc[df['type_race'] == 'Parademon'] "
   ]
  },
  {
   "cell_type": "code",
   "execution_count": 30,
   "id": "2b570261",
   "metadata": {},
   "outputs": [
    {
     "data": {
      "text/plain": [
       "991    DC Comics\n",
       "Name: creator, dtype: object"
      ]
     },
     "execution_count": 30,
     "metadata": {},
     "output_type": "execute_result"
    }
   ],
   "source": [
    "df_parademon['creator']"
   ]
  },
  {
   "cell_type": "markdown",
   "id": "5c37d2c0",
   "metadata": {},
   "source": [
    "# DC Comics is the creator having most superheroes of type “Parademon”."
   ]
  },
  {
   "cell_type": "markdown",
   "id": "dd51bc47",
   "metadata": {},
   "source": [
    "# 5)Which comic creator has most superhero teams?"
   ]
  },
  {
   "cell_type": "code",
   "execution_count": 32,
   "id": "4b48bb93",
   "metadata": {},
   "outputs": [
    {
     "name": "stdout",
     "output_type": "stream",
     "text": [
      "Wildstorm\n"
     ]
    }
   ],
   "source": [
    "groups_by_creator = df.groupby('creator')\n",
    "for creator, group in groups_by_creator:\n",
    "    teams_list = []\n",
    "    max_list_length = 0\n",
    "    for index, row in df.iterrows():\n",
    "        teams_list.extend(row['teams'])\n",
    "    teams_set = set(teams_list)\n",
    "    if len(teams_set) > max_list_length:\n",
    "        max_list_length = len(teams_set)\n",
    "        max_team_creator = creator\n",
    "print(max_team_creator)"
   ]
  },
  {
   "cell_type": "markdown",
   "id": "9fe9135b",
   "metadata": {},
   "source": [
    "# Wildstorm creator has most superhero teams"
   ]
  }
 ],
 "metadata": {
  "kernelspec": {
   "display_name": "Python 3 (ipykernel)",
   "language": "python",
   "name": "python3"
  },
  "language_info": {
   "codemirror_mode": {
    "name": "ipython",
    "version": 3
   },
   "file_extension": ".py",
   "mimetype": "text/x-python",
   "name": "python",
   "nbconvert_exporter": "python",
   "pygments_lexer": "ipython3",
   "version": "3.10.9"
  }
 },
 "nbformat": 4,
 "nbformat_minor": 5
}
